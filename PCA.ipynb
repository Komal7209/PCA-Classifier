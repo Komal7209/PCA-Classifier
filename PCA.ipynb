{
 "cells": [
  {
   "cell_type": "code",
   "execution_count": 37,
   "metadata": {},
   "outputs": [],
   "source": [
    "import pandas as pd  # Pandas, short for \"panel data \" , makes it easy to manipulate data in python "
   ]
  },
  {
   "cell_type": "code",
   "execution_count": 38,
   "metadata": {},
   "outputs": [],
   "source": [
    "import numpy as np #numpy allow us to generate random numbers and do other mathy things"
   ]
  },
  {
   "cell_type": "code",
   "execution_count": 39,
   "metadata": {},
   "outputs": [],
   "source": [
    "import random as rd #random package useful for generating an example dataset, if we are working with real data, we wont need this package"
   ]
  },
  {
   "cell_type": "code",
   "execution_count": 40,
   "metadata": {},
   "outputs": [],
   "source": [
    "from sklearn.decomposition import PCA #here we are importing the PCA function from sklearn"
   ]
  },
  {
   "cell_type": "code",
   "execution_count": 41,
   "metadata": {},
   "outputs": [],
   "source": [
    "from sklearn import preprocessing # gives us functions for scaling the data before performing PCA"
   ]
  },
  {
   "cell_type": "code",
   "execution_count": 42,
   "metadata": {},
   "outputs": [],
   "source": [
    "import matplotlib.pyplot as plt #for drawing graphs"
   ]
  },
  {
   "cell_type": "markdown",
   "metadata": {},
   "source": [
    "Python, being a general purpose programming language, doesn't have built in support for tables of data , random numbers generation or graphing like R, so we import all the stuff we need. Thus we have imported all libraries"
   ]
  },
  {
   "cell_type": "markdown",
   "metadata": {},
   "source": [
    "For generating sample dataset"
   ]
  },
  {
   "cell_type": "code",
   "execution_count": 43,
   "metadata": {},
   "outputs": [],
   "source": [
    "genes = ['gene' + str(i) for i in range(1,101)] # generate an array of 100 gene names. since it is just an example dataset, our gene names are \"gene1\" , \"gene2\", etc."
   ]
  },
  {
   "cell_type": "code",
   "execution_count": 44,
   "metadata": {},
   "outputs": [],
   "source": [
    "wt= ['wt' + str(i) for i in range (1,6)] # range(1,6) generates values 1,2,3,4,5 i.e less than higher value\n",
    "ko = ['ko' + str(i) for i in range(1,6)] #arrays for sample names, we have 5 \"wild type\" or \"wt\" samples and 5 \"knock out\" or \"ko\" samples "
   ]
  },
  {
   "cell_type": "code",
   "execution_count": 45,
   "metadata": {},
   "outputs": [],
   "source": [
    "data = pd.DataFrame(columns = [*wt , *ko], index = genes) #create a pandas dataframe to store made up data\n",
    "# the \"stars\" unpack the 'wt' and 'ko' arrays so that the column names are a single array that looks like this: [wt1, wt2, wt3, wt4,wt5, wt6, ko1, ko2, ko3, ko4, ko5, ko6]\n",
    "# without stars , we would create any array of two arrays and wouldn't create 12 columns like we want : [[wt1, wt2, wt3, wt4,wt5, wt6],[ko1, ko2, ko3, ko4, ko5, ko6]]\n",
    "# gene names are used for the index, which means that they are the equivalent of row names. "
   ]
  },
  {
   "cell_type": "code",
   "execution_count": 46,
   "metadata": {},
   "outputs": [],
   "source": [
    "for gene in data.index:\n",
    "    data.loc[gene , 'wt1':'wt5'] = np.random.poisson(lam = rd.randrange(10,1000),size =5)\n",
    "    data.loc[gene, 'ko1':'ko5'] = np.random.poisson(lam =rd.randrange(10,1000) ,size= 5)\n",
    "    # this is where wee create random data;for each gene in the index(i.e gene1, gene2,....gene100),we create 5 values for the \"wt\" samples and 5 value for the \"ko\" samples\n",
    "    # after \"=\"sign ; the  made up data comes from two poisson distributions: one for the wt samples and one for the ko samples.\"RNA sequencing aficionados will recognize that the poisson's distribution isn't the right one to use for RNA seek data. no biig deal this is just a made up dataset so dont worry about it.\"\n",
    "    #for each gene we select a new mean for the Poisson distribution. the poisson mean can vary between 10 and 1000"
   ]
  },
  {
   "cell_type": "code",
   "execution_count": 47,
   "metadata": {},
   "outputs": [
    {
     "name": "stdout",
     "output_type": "stream",
     "text": [
      "       wt1  wt2  wt3  wt4  wt5  ko1  ko2  ko3  ko4  ko5\n",
      "gene1  829  848  846  866  795  780  780  716  863  779\n",
      "gene2  516  504  507  470  486  893  894  883  877  867\n",
      "gene3  740  755  719  722  675  541  565  586  577  590\n",
      "gene4   12    8   11   15    8  194  161  202  191  174\n",
      "gene5  329  318  345  282  311  611  637  600  651  642\n"
     ]
    }
   ],
   "source": [
    "print(data.head())"
   ]
  },
  {
   "cell_type": "code",
   "execution_count": 48,
   "metadata": {},
   "outputs": [
    {
     "name": "stdout",
     "output_type": "stream",
     "text": [
      "(100, 10)\n"
     ]
    }
   ],
   "source": [
    "print(data.shape) #returns the dimension of our data matrix // we got 100 genes and 10 total samples"
   ]
  },
  {
   "cell_type": "markdown",
   "metadata": {},
   "source": [
    "Before we start PCA , we have to centre and scale data"
   ]
  },
  {
   "cell_type": "code",
   "execution_count": 49,
   "metadata": {},
   "outputs": [],
   "source": [
    "scaled_data = preprocessing.scale(data.T) # after centering, the average value for each for each gene will be 0, \n",
    "                                           #after scaling, the standard deviation for the values for each gene will be 1 \n",
    "                                 #(data.T)#we are passing in the the transpose for our data. the scale function expects the samples to be rows instead of columnns"
   ]
  },
  {
   "cell_type": "markdown",
   "metadata": {},
   "source": [
    "note1 : we use sample as columns in this example because that is often how genomic data is stored. if you have oher data, you can store it however is easiest for you. there is no requirement that samples be rows or columns, just be aware that if it is columns, you'll need to transpose it before analysis.\n",
    "\n",
    "note2: \" preprocessing.scale(data.T)\" : this is just one way to use sklearn to center and scale the data so that the means for each gene are 0 and the standard deviation for each gene are 1. \n",
    "\n",
    "Alternatively, we could have used: \"StandardScaler().fit_transform(data.T)\" \n",
    "this second method is more commonly used for machine learning and that's what sklearn was designed to do\n",
    "\n",
    "\n",
    "note3:\n",
    "about scaling with sklearn vs scale() or procomp() in R:\n",
    " In sklearn, variation is calculated as:\n",
    "               ((measurements - mean)^2)/(the number of measurements)\n",
    "               \n",
    " In R using scale() or procomp() , variation is calculated as:\n",
    "              ((measurements - mean)^2)/(the number of measurements - 1) # this method results in larger, but unbiased,                                                                                     estimates of the variation\n",
    "          \n",
    "          \n",
    "         Good news is this: These differences do not effect the PCA Analysis.\n",
    "          The loading scores and the amount of variation per principal component will be the same either way.\n",
    "          \n",
    "          Bad news is this: These differences will have minor effect on final graph. This because the coordinate on the final graph come from multiplying the loading scores by scaled value"
   ]
  },
  {
   "cell_type": "code",
   "execution_count": 50,
   "metadata": {},
   "outputs": [],
   "source": [
    "pca = PCA()\n",
    "# now we create a PCA object. Rather than just have a function that does PCA and return results, sklearn uses objects that can be trained using one dataset and applied to another dataset.\n",
    "#Since we're only using PCA to explore one dataset (and not using PCA in a machine learning setting), the additional steps are a little tedious but they set us up for a machine learning topics that will be covered soon. "
   ]
  },
  {
   "cell_type": "code",
   "execution_count": 51,
   "metadata": {},
   "outputs": [
    {
     "data": {
      "text/plain": [
       "PCA(copy=True, iterated_power='auto', n_components=None, random_state=None,\n",
       "  svd_solver='auto', tol=0.0, whiten=False)"
      ]
     },
     "execution_count": 51,
     "metadata": {},
     "output_type": "execute_result"
    }
   ],
   "source": [
    "pca.fit(scaled_data)\n",
    "#this is where we do all PCA maths( i.e. calculate loading scores and the variation each principal component accounts for)"
   ]
  },
  {
   "cell_type": "code",
   "execution_count": 52,
   "metadata": {},
   "outputs": [],
   "source": [
    "pca_data = pca.transform(scaled_data)\n",
    "#this is where we generate coordinates for a PCA graph based on the loading scores and the scaled data"
   ]
  },
  {
   "cell_type": "markdown",
   "metadata": {},
   "source": [
    "Now we are ready to draw  a graph!!!\n",
    "We'll start with the scree plot to see how many principal components should go into the final plot"
   ]
  },
  {
   "cell_type": "code",
   "execution_count": 53,
   "metadata": {},
   "outputs": [],
   "source": [
    "per_var = np.round(pca.explained_variance_ratio_* 100, decimals =1) #calculate the percentage of variation that each principal component accounts for\n",
    "labels = ['PC' + str(x) for x in range(1, len(per_var)+1)] # now we create labels for scree plot. These are \"PC1\" , \"PC2\", etc (one label per principal component) "
   ]
  },
  {
   "cell_type": "markdown",
   "metadata": {},
   "source": [
    "Now we use matplotlib to create bar a plot"
   ]
  },
  {
   "cell_type": "code",
   "execution_count": 54,
   "metadata": {},
   "outputs": [
    {
     "data": {
      "image/png": "[encoded data removed]",
      "text/plain": [
       "<Figure size 432x288 with 1 Axes>"
      ]
     },
     "metadata": {},
     "output_type": "display_data"
    }
   ],
   "source": [
    "plt.bar(x=range(1, len(per_var)+1), height = per_var, tick_label = labels)\n",
    "plt.ylabel('Percentage of explained variance')\n",
    "plt.xlabel('Principal Component')\n",
    "plt.title('Scree Plot')\n",
    "plt.show()\n"
   ]
  },
  {
   "cell_type": "code",
   "execution_count": 58,
   "metadata": {},
   "outputs": [],
   "source": [
    "pca_df = pd.DataFrame(pca_data , index =[*wt , *ko], columns= labels) # to draw a PCA plot, we'll first put the new coordinates, created by pca.transform(scaled.data), into a nice matrix where the rows have sample labels and the colums have PC labels"
   ]
  },
  {
   "cell_type": "markdown",
   "metadata": {},
   "source": [
    "Below commands draw a scatter plot with a title and nice axis labels"
   ]
  },
  {
   "cell_type": "code",
   "execution_count": 56,
   "metadata": {},
   "outputs": [
    {
     "data": {
      "text/plain": [
       "Text(0,0.5,'PC2 -2.3%')"
      ]
     },
     "execution_count": 56,
     "metadata": {},
     "output_type": "execute_result"
    },
    {
     "data": {
      "image/png": "[encoded data removed]",
      "text/plain": [
       "<Figure size 432x288 with 1 Axes>"
      ]
     },
     "metadata": {},
     "output_type": "display_data"
    }
   ],
   "source": [
    "plt.scatter(pca_df.PC1 , pca_df.PC2)\n",
    "plt.title('My PCA Graph')\n",
    "plt.xlabel('PC1 -{0}%'.format(per_var[0]))\n",
    "plt.ylabel('PC2 -{0}%'.format(per_var[1]))"
   ]
  },
  {
   "cell_type": "code",
   "execution_count": 59,
   "metadata": {},
   "outputs": [
    {
     "data": {
      "image/png": "[encoded data removed]",
      "text/plain": [
       "<Figure size 432x288 with 1 Axes>"
      ]
     },
     "metadata": {},
     "output_type": "display_data"
    }
   ],
   "source": [
    "plt.scatter(pca_df.PC1 , pca_df.PC2)\n",
    "plt.title('My PCA Graph')\n",
    "plt.xlabel('PC1 -{0}%'.format(per_var[0]))\n",
    "plt.ylabel('PC2 -{0}%'.format(per_var[1]))\n",
    "\n",
    "for sample in pca_df.index:\n",
    "    plt.annotate(sample, (pca_df.PC1.loc[sample], pca_df.PC2.loc[sample])) #this loop adds sample names to the graph\n",
    "    \n",
    "plt.show()"
   ]
  },
  {
   "cell_type": "markdown",
   "metadata": {},
   "source": [
    "The \"wt\" samples clustered on the right side, suggesting that they are correlated with each other\n",
    "\n",
    "The \"ko\" samples clustered on the left side, suggesting that they are correlated with each other\n",
    "\n",
    "And the separation of the two clusters along the x-axis suggests that \"wt\" samples are very different from \"ko\" samples"
   ]
  },
  {
   "cell_type": "markdown",
   "metadata": {},
   "source": [
    "# Lastly, lets look at the loading scores for PC1 to determine which genes had the largest influence on separating the two clusters along the x-axis"
   ]
  },
  {
   "cell_type": "code",
   "execution_count": 61,
   "metadata": {},
   "outputs": [],
   "source": [
    "loading_scores = pd.Series(pca.components_[0], index=genes) #We'll start by creating a panda \"Series\" object with the loading scores in PC1\n",
    "# pca.components_[0] : the PCs are zero-indexed, so PC1=0"
   ]
  },
  {
   "cell_type": "code",
   "execution_count": 66,
   "metadata": {},
   "outputs": [],
   "source": [
    "sorted_loading_scores = loading_scores.abs().sort_values(ascending = False)\n",
    "#abs(): sorting the loading scores based on their magnitude (absolute values)"
   ]
  },
  {
   "cell_type": "code",
   "execution_count": 67,
   "metadata": {},
   "outputs": [
    {
     "name": "stdout",
     "output_type": "stream",
     "text": [
      "gene29    0.105068\n",
      "gene71   -0.105066\n",
      "gene34   -0.105059\n",
      "gene19    0.105057\n",
      "gene27    0.105049\n",
      "gene44    0.105047\n",
      "gene26   -0.105035\n",
      "gene16    0.105034\n",
      "gene86   -0.105030\n",
      "gene59    0.105025\n",
      "dtype: float64\n"
     ]
    }
   ],
   "source": [
    "top_10_genes = sorted_loading_scores[0:10].index.values #getting the names of top 10 indexes (which are the gene names)\n",
    "print(loading_scores[top_10_genes]) #print out 10 gene names and their corresponding loading scores"
   ]
  },
  {
   "cell_type": "code",
   "execution_count": null,
   "metadata": {},
   "outputs": [],
   "source": []
  }
 ],
 "metadata": {
  "kernelspec": {
   "display_name": "Python 3",
   "language": "python",
   "name": "python3"
  },
  "language_info": {
   "codemirror_mode": {
    "name": "ipython",
    "version": 3
   },
   "file_extension": ".py",
   "mimetype": "text/x-python",
   "name": "python",
   "nbconvert_exporter": "python",
   "pygments_lexer": "ipython3",
   "version": "3.6.4"
  }
 },
 "nbformat": 4,
 "nbformat_minor": 2
}
